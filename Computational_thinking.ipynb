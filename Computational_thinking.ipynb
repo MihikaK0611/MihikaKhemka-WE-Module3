{
  "nbformat": 4,
  "nbformat_minor": 0,
  "metadata": {
    "colab": {
      "provenance": []
    },
    "kernelspec": {
      "name": "python3",
      "display_name": "Python 3"
    },
    "language_info": {
      "name": "python"
    }
  },
  "cells": [
    {
      "cell_type": "code",
      "execution_count": null,
      "metadata": {
        "id": "qZHQpOrDv3Sb"
      },
      "outputs": [],
      "source": [
        "def num_to_digits(num):\n",
        "    # Function to convert a number to a list of its digits\n",
        "    digits = []\n",
        "    while num > 0:\n",
        "        digits.append(num % 10)\n",
        "        num //= 10\n",
        "    digits.reverse()\n",
        "    return digits"
      ]
    },
    {
      "cell_type": "code",
      "source": [
        "def digits_to_num(digits):\n",
        "    # Function to convert a list of digits to a number\n",
        "    num = 0\n",
        "    for digit in digits:\n",
        "        num = num * 10 + digit\n",
        "    return num"
      ],
      "metadata": {
        "id": "z5ZouKUKwQvt"
      },
      "execution_count": null,
      "outputs": []
    },
    {
      "cell_type": "code",
      "source": [
        "def largest_possible_number(digits):\n",
        "    # Function to create the largest possible number from a list of digits\n",
        "    sorted_digits = sorted(digits, reverse=True)\n",
        "    return digits_to_num(sorted_digits)"
      ],
      "metadata": {
        "id": "ljoydCtYwYh8"
      },
      "execution_count": null,
      "outputs": []
    },
    {
      "cell_type": "code",
      "source": [
        "def smallest_possible_number(digits):\n",
        "    # Function to create the smallest possible number from a list of digits\n",
        "    sorted_digits = sorted(digits)\n",
        "    return digits_to_num(sorted_digits)"
      ],
      "metadata": {
        "id": "FtQ0bvX3wZqJ"
      },
      "execution_count": null,
      "outputs": []
    },
    {
      "cell_type": "code",
      "source": [
        "def kaprekar_transform(num):\n",
        "    # Function to perform Kaprekar's transform on a number\n",
        "    return largest_possible_number(num_to_digits(num)) - smallest_possible_number(num_to_digits(num))"
      ],
      "metadata": {
        "id": "lQOZByG7wcc_"
      },
      "execution_count": null,
      "outputs": []
    },
    {
      "cell_type": "code",
      "source": [
        "def kaprekar_sequence(num):\n",
        "    # Function to generate the Kaprekar sequence for a given number\n",
        "    sequence = [num]\n",
        "    while True:\n",
        "        next_num = kaprekar_transform(sequence[-1])\n",
        "        if next_num in sequence:\n",
        "            break\n",
        "        sequence.append(next_num)\n",
        "    return sequence"
      ],
      "metadata": {
        "id": "V8d64txrwisi"
      },
      "execution_count": null,
      "outputs": []
    },
    {
      "cell_type": "code",
      "source": [
        "# Test cases\n",
        "test_cases = [\n",
        "    1234,  # Four-digit number\n",
        "    6174,  # Kaprekar constant\n",
        "    1111,  # All digits same\n",
        "    4321,  # Reverse sorted\n",
        "    1000,  # Smallest 4-digit number\n",
        "    9999,  # Largest 4-digit number\n",
        "    123,   # Ascending order\n",
        "    321,   # Descending order\n",
        "    135,   # Random order\n",
        "    100,   # Smallest 3-digit number\n",
        "    999    # Largest 3-digit number\n",
        "]\n",
        "\n",
        "for num in test_cases:\n",
        "    print(f\"Test case for {num}:\")\n",
        "    sequence = kaprekar_sequence(num)\n",
        "    print(\"Kaprekar Sequence:\", sequence)\n",
        "    print()"
      ],
      "metadata": {
        "colab": {
          "base_uri": "https://localhost:8080/"
        },
        "id": "WCi0DFulwzJp",
        "outputId": "69660d9d-0111-4fca-e5af-e1a72a5fe3a5"
      },
      "execution_count": null,
      "outputs": [
        {
          "output_type": "stream",
          "name": "stdout",
          "text": [
            "Test case for 1234:\n",
            "Kaprekar Sequence: [1234, 3087, 8352, 6174]\n",
            "\n",
            "Test case for 6174:\n",
            "Kaprekar Sequence: [6174]\n",
            "\n",
            "Test case for 1111:\n",
            "Kaprekar Sequence: [1111, 0]\n",
            "\n",
            "Test case for 4321:\n",
            "Kaprekar Sequence: [4321, 3087, 8352, 6174]\n",
            "\n",
            "Test case for 1000:\n",
            "Kaprekar Sequence: [1000, 999, 0]\n",
            "\n",
            "Test case for 9999:\n",
            "Kaprekar Sequence: [9999, 0]\n",
            "\n",
            "Test case for 123:\n",
            "Kaprekar Sequence: [123, 198, 792, 693, 594, 495]\n",
            "\n",
            "Test case for 321:\n",
            "Kaprekar Sequence: [321, 198, 792, 693, 594, 495]\n",
            "\n",
            "Test case for 135:\n",
            "Kaprekar Sequence: [135, 396, 594, 495]\n",
            "\n",
            "Test case for 100:\n",
            "Kaprekar Sequence: [100, 99, 0]\n",
            "\n",
            "Test case for 999:\n",
            "Kaprekar Sequence: [999, 0]\n",
            "\n"
          ]
        }
      ]
    }
  ]
}